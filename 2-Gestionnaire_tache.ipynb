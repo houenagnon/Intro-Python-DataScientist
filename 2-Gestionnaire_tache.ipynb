<center> <font size=5><b> <span> Episode 5 : </span> </b>  Maîtriser les bases de python en créant un gestionnaire de tâches</font></center>
L'exercice consiste à créer un Gestionnaire de Tâches en utilisant le langage de programmation Python. Pour cela, nous allons suivre plusieurs étapes afin de construire un programme interactif permettant à l'utilisateur d'ajouter, afficher, modifier le statut et supprimer des tâches.


# Partie 1 : Initialisation de la liste de tâches
taches = []
# Partie 2 : Fonction pour ajouter une tâche à la liste
def ajouter_tache():
    nom = input("Nom de la tâche : ")
    description = input("Description : ")
    date_limite = input("Date limite : ")
    statut = "En cours"  # Nouvelle tâche ajoutée, donc statut par défaut "En cours"

    tache = {'nom': nom, 'description': description, 'date_limite': date_limite, 'statut': statut}
    taches.append(tache)
    print("Tâche ajoutée avec succès !")
# Partie 3 : Fonction pour afficher les tâches
def afficher_taches():
    print("\nListe des tâches :")
    for i, tache in enumerate(taches, start=1):
        print(f"{i}. {tache['nom']} - {tache['description']} ({tache['date_limite']}) - {tache['statut']}")
# Partie 4 : Fonction pour modifier le statut d'une tâche
def modifier_statut():
    nom_tache = input("Nom de la tâche à modifier : ")
    for tache in taches:
        if tache['nom'] == nom_tache:
            nouveau_statut = input("Nouveau statut (En cours/Terminé/En attente) : ")
            tache['statut'] = nouveau_statut
            print("Statut de la tâche modifié avec succès !")
            return
    print("Tâche introuvable.")
# Partie 5 : Fonction pour supprimer une tâche
def supprimer_tache():
    nom_tache = input("Nom de la tâche à supprimer : ")
    for tache in taches:
        if tache['nom'] == nom_tache:
            taches.remove(tache)
            print("Tâche supprimée avec succès !")
            return
    print("Tâche introuvable.")
# Partie 6 : Boucle principale

while True:
    print("\nBienvenue dans le Gestionnaire de Tâches !")
    print("1. Ajouter une tâche")
    print("2. Afficher les tâches")
    print("3. Modifier le statut d'une tâche")
    print("4. Supprimer une tâche")
    print("5. Quitter")

    choix = input("\nVotre choix (1/2/3/4/5) : ")

    if choix == '1':
        ajouter_tache()
    elif choix == '2':
        afficher_taches()
    elif choix == '3':
        modifier_statut()
    elif choix == '4':
        supprimer_tache()
    elif choix == '5':

        print("\nMerci d'avoir utilisé le Gestionnaire de Tâches !")
        break
    else:
        print("Choix invalide. Veuillez choisir 1, 2, 3, 4 ou 5.")

